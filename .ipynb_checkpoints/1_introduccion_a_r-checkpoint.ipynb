{
 "cells": [
  {
   "cell_type": "markdown",
   "metadata": {},
   "source": [
    "# 1. Introducción a R\n",
    "por __José Ángel Velasco__\n",
    "[LinkedIn](https://www.linkedin.com/in/joseangelvelascorodriguez/)\n",
    "[GitHub](http://github.com/joverod)"
   ]
  },
  {
   "cell_type": "markdown",
   "metadata": {},
   "source": [
    "* ¿Que es R?\n",
    "* Como utilizar R\n",
    "    * RStudio\n",
    "    * Jupyter Notebook\n",
    "* Variables y workspace\n",
    "* Operaciones Básicas\n",
    "* Funciones basicas\n",
    "* Representacion grafica basica\n",
    "* Leer y guardar datos"
   ]
  },
  {
   "cell_type": "markdown",
   "metadata": {},
   "source": [
    "__¿Que es R?__ \n",
    "\n",
    "Es un lenguaje de programación y paquete estadístico que permite realizar cálculos y gráficos\n",
    "estadísticos."
   ]
  },
  {
   "cell_type": "markdown",
   "metadata": {},
   "source": [
    "__Características__\n",
    "* Basado en S (AT&T), S-PLUS.\n",
    "* Distribuido bajo licencia GNU GPL (General Public License).\n",
    "* Disponible en código fuente (C y Fortran) o binarios (Windows, Linux, MacOS).\n",
    "* Lenguaje interpretado y Orientado a Objetos.\n",
    "* Organizado en paquetes (base) y librerías.\n",
    "* Lenguaje muy utilizado en Data Science, economía, ingeniería, estadística"
   ]
  },
  {
   "cell_type": "markdown",
   "metadata": {},
   "source": [
    " ___Puedes consiguer R___ [aqui](https://www.r-project.org)"
   ]
  },
  {
   "cell_type": "markdown",
   "metadata": {},
   "source": [
    "__Resulta muy comodo usar R en__ [Rstudio](https://www.rstudio.com)  (Ver imagen inferior)"
   ]
  },
  {
   "cell_type": "markdown",
   "metadata": {
    "collapsed": false
   },
   "source": [
    "<img src=\"pics/RStudio-Screenshot.png\" width=\"60%\">"
   ]
  },
  {
   "cell_type": "markdown",
   "metadata": {
    "collapsed": true
   },
   "source": [
    "No obstante nosotros usaremos [Jupyter Notebook](http://jupyter.org), el entorno donde estamos"
   ]
  },
  {
   "cell_type": "markdown",
   "metadata": {},
   "source": [
    "Puedes conseguirlo instalando [Anaconda](https://www.anaconda.com/download/#macos) (Python)"
   ]
  },
  {
   "cell_type": "markdown",
   "metadata": {},
   "source": [
    "Echa un vistazo a estos [notebooks](http://nbviewer.jupyter.org) de ejemplo"
   ]
  },
  {
   "cell_type": "markdown",
   "metadata": {},
   "source": [
    "### Licencia de uso"
   ]
  },
  {
   "cell_type": "code",
   "execution_count": 370,
   "metadata": {
    "collapsed": false
   },
   "outputs": [
    {
     "name": "stdout",
     "output_type": "stream",
     "text": [
      "\n",
      "This software is distributed under the terms of the GNU General\n",
      "Public License, either Version 2, June 1991 or Version 3, June 2007.\n",
      "The terms of version 2 of the license are in a file called COPYING\n",
      "which you should have received with\n",
      "this software and which can be displayed by RShowDoc(\"COPYING\").\n",
      "Version 3 of the license can be displayed by RShowDoc(\"GPL-3\").\n",
      "\n",
      "Copies of both versions 2 and 3 of the license can be found\n",
      "at https://www.R-project.org/Licenses/.\n",
      "\n",
      "A small number of files (the API header files listed in\n",
      "R_DOC_DIR/COPYRIGHTS) are distributed under the\n",
      "LESSER GNU GENERAL PUBLIC LICENSE, version 2.1 or later.\n",
      "This can be displayed by RShowDoc(\"LGPL-2.1\"),\n",
      "or obtained at the URI given.\n",
      "Version 3 of the license can be displayed by RShowDoc(\"LGPL-3\").\n",
      "\n",
      "'Share and Enjoy.'\n",
      "\n"
     ]
    }
   ],
   "source": [
    "license()"
   ]
  },
  {
   "cell_type": "markdown",
   "metadata": {},
   "source": [
    "### Como citar el software"
   ]
  },
  {
   "cell_type": "code",
   "execution_count": 371,
   "metadata": {
    "collapsed": false
   },
   "outputs": [
    {
     "data": {
      "text/plain": [
       "\n",
       "To cite R in publications use:\n",
       "\n",
       "  R Core Team (2016). R: A language and environment for statistical\n",
       "  computing. R Foundation for Statistical Computing, Vienna, Austria.\n",
       "  URL https://www.R-project.org/.\n",
       "\n",
       "A BibTeX entry for LaTeX users is\n",
       "\n",
       "  @Manual{,\n",
       "    title = {R: A Language and Environment for Statistical Computing},\n",
       "    author = {{R Core Team}},\n",
       "    organization = {R Foundation for Statistical Computing},\n",
       "    address = {Vienna, Austria},\n",
       "    year = {2016},\n",
       "    url = {https://www.R-project.org/},\n",
       "  }\n",
       "\n",
       "We have invested a lot of time and effort in creating R, please cite it\n",
       "when using it for data analysis. See also ‘citation(\"pkgname\")’ for\n",
       "citing R packages.\n"
      ]
     },
     "metadata": {},
     "output_type": "display_data"
    }
   ],
   "source": [
    "citation()"
   ]
  },
  {
   "cell_type": "markdown",
   "metadata": {},
   "source": [
    "### Ejemplos y demos"
   ]
  },
  {
   "cell_type": "code",
   "execution_count": 372,
   "metadata": {
    "collapsed": true
   },
   "outputs": [],
   "source": [
    "demo()\n",
    "#demo(package = .packages(all.available = TRUE)) "
   ]
  },
  {
   "cell_type": "code",
   "execution_count": 373,
   "metadata": {
    "collapsed": false
   },
   "outputs": [],
   "source": [
    "#demo(lm.glm)"
   ]
  },
  {
   "cell_type": "markdown",
   "metadata": {},
   "source": [
    "### Ayuda"
   ]
  },
  {
   "cell_type": "code",
   "execution_count": 49,
   "metadata": {
    "collapsed": true
   },
   "outputs": [],
   "source": [
    "help()"
   ]
  },
  {
   "cell_type": "markdown",
   "metadata": {},
   "source": [
    "## Iniciación a R"
   ]
  },
  {
   "cell_type": "markdown",
   "metadata": {},
   "source": [
    "### Cálculos básicos\n",
    "* Suma + \n",
    "* Resta -\n",
    "* Multiplicación *\n",
    "* División /\n",
    "* Potenciación ^\n",
    "* Resto %%\n",
    "* Division entera %/%\n",
    "\n",
    "### operaciones básicas\n",
    "* sqrt(x)\n",
    "* log(x)\n",
    "* log(x,n)\n",
    "* exp(x)\n",
    "* factorial(x)\n",
    "* sin(x)\n",
    "* cos(x)\n",
    "* tan(x)\n",
    "* asin(x)\n",
    "* floor(x)\n",
    "* ceiling(x)\n",
    "\n",
    "### Operadores relacionales\n",
    "* mayor que >\n",
    "* mayor o igual >=\n",
    "* menor que <\n",
    "* menor o igual <=\n",
    "* igual ==\n",
    "* distinto !=\n",
    "\n",
    "### Operadores lógicos:\n",
    "* !\n",
    "* & (and)\n",
    "* | (or)\n",
    "\n",
    "### Operadores de asignacion\n",
    "* < −\n",
    "* − >\n",
    "* ="
   ]
  },
  {
   "cell_type": "code",
   "execution_count": 374,
   "metadata": {
    "collapsed": false
   },
   "outputs": [
    {
     "data": {
      "text/html": [
       "12"
      ],
      "text/latex": [
       "12"
      ],
      "text/markdown": [
       "12"
      ],
      "text/plain": [
       "[1] 12"
      ]
     },
     "metadata": {},
     "output_type": "display_data"
    }
   ],
   "source": [
    "x <- 2\n",
    "y <- 10\n",
    "z = x + y\n",
    "z"
   ]
  },
  {
   "cell_type": "code",
   "execution_count": 36,
   "metadata": {
    "collapsed": false
   },
   "outputs": [
    {
     "data": {
      "text/html": [
       "3.46410161513775"
      ],
      "text/latex": [
       "3.46410161513775"
      ],
      "text/markdown": [
       "3.46410161513775"
      ],
      "text/plain": [
       "[1] 3.464102"
      ]
     },
     "metadata": {},
     "output_type": "display_data"
    }
   ],
   "source": [
    "sqrt(z)"
   ]
  },
  {
   "cell_type": "code",
   "execution_count": 39,
   "metadata": {
    "collapsed": false
   },
   "outputs": [
    {
     "data": {
      "text/html": [
       "1728"
      ],
      "text/latex": [
       "1728"
      ],
      "text/markdown": [
       "1728"
      ],
      "text/plain": [
       "[1] 1728"
      ]
     },
     "metadata": {},
     "output_type": "display_data"
    }
   ],
   "source": [
    "vol = z^3  \n",
    "vol"
   ]
  },
  {
   "cell_type": "markdown",
   "metadata": {},
   "source": [
    "### Workspace"
   ]
  },
  {
   "cell_type": "markdown",
   "metadata": {},
   "source": [
    "### Listar objetos"
   ]
  },
  {
   "cell_type": "code",
   "execution_count": 375,
   "metadata": {
    "collapsed": false
   },
   "outputs": [
    {
     "data": {
      "text/html": [
       "<ol class=list-inline>\n",
       "\t<li>'data'</li>\n",
       "\t<li>'diferencias'</li>\n",
       "\t<li>'kilometros'</li>\n",
       "\t<li>'precipitaciones05'</li>\n",
       "\t<li>'precipitaciones06'</li>\n",
       "\t<li>'total_05'</li>\n",
       "\t<li>'total_06'</li>\n",
       "\t<li>'var_dic_list'</li>\n",
       "\t<li>'x'</li>\n",
       "\t<li>'y'</li>\n",
       "\t<li>'z'</li>\n",
       "</ol>\n"
      ],
      "text/latex": [
       "\\begin{enumerate*}\n",
       "\\item 'data'\n",
       "\\item 'diferencias'\n",
       "\\item 'kilometros'\n",
       "\\item 'precipitaciones05'\n",
       "\\item 'precipitaciones06'\n",
       "\\item 'total\\_05'\n",
       "\\item 'total\\_06'\n",
       "\\item 'var\\_dic\\_list'\n",
       "\\item 'x'\n",
       "\\item 'y'\n",
       "\\item 'z'\n",
       "\\end{enumerate*}\n"
      ],
      "text/markdown": [
       "1. 'data'\n",
       "2. 'diferencias'\n",
       "3. 'kilometros'\n",
       "4. 'precipitaciones05'\n",
       "5. 'precipitaciones06'\n",
       "6. 'total_05'\n",
       "7. 'total_06'\n",
       "8. 'var_dic_list'\n",
       "9. 'x'\n",
       "10. 'y'\n",
       "11. 'z'\n",
       "\n",
       "\n"
      ],
      "text/plain": [
       " [1] \"data\"              \"diferencias\"       \"kilometros\"       \n",
       " [4] \"precipitaciones05\" \"precipitaciones06\" \"total_05\"         \n",
       " [7] \"total_06\"          \"var_dic_list\"      \"x\"                \n",
       "[10] \"y\"                 \"z\"                "
      ]
     },
     "metadata": {},
     "output_type": "display_data"
    }
   ],
   "source": [
    "ls()"
   ]
  },
  {
   "cell_type": "markdown",
   "metadata": {},
   "source": [
    "### Borrar variable \"x\""
   ]
  },
  {
   "cell_type": "code",
   "execution_count": 369,
   "metadata": {
    "collapsed": false
   },
   "outputs": [
    {
     "name": "stderr",
     "output_type": "stream",
     "text": [
      "Warning message in rm(x):\n",
      "“objeto 'x' no encontrado”"
     ]
    }
   ],
   "source": [
    "rm(x)"
   ]
  },
  {
   "cell_type": "markdown",
   "metadata": {},
   "source": [
    "### Borrar todas las variables"
   ]
  },
  {
   "cell_type": "code",
   "execution_count": 376,
   "metadata": {
    "collapsed": true
   },
   "outputs": [],
   "source": [
    "rm(list=ls())"
   ]
  },
  {
   "cell_type": "markdown",
   "metadata": {},
   "source": [
    "### Variables"
   ]
  },
  {
   "cell_type": "code",
   "execution_count": 52,
   "metadata": {
    "collapsed": false
   },
   "outputs": [
    {
     "data": {
      "text/html": [
       "'character'"
      ],
      "text/latex": [
       "'character'"
      ],
      "text/markdown": [
       "'character'"
      ],
      "text/plain": [
       "[1] \"character\""
      ]
     },
     "metadata": {},
     "output_type": "display_data"
    }
   ],
   "source": [
    "nombre<-\"Alfredo\"\n",
    "mode(nombre) "
   ]
  },
  {
   "cell_type": "code",
   "execution_count": 53,
   "metadata": {
    "collapsed": false
   },
   "outputs": [
    {
     "data": {
      "text/html": [
       "'logical'"
      ],
      "text/latex": [
       "'logical'"
      ],
      "text/markdown": [
       "'logical'"
      ],
      "text/plain": [
       "[1] \"logical\""
      ]
     },
     "metadata": {},
     "output_type": "display_data"
    }
   ],
   "source": [
    "a <- TRUE\n",
    "mode(a)"
   ]
  },
  {
   "cell_type": "code",
   "execution_count": 54,
   "metadata": {
    "collapsed": false
   },
   "outputs": [
    {
     "data": {
      "text/html": [
       "'complex'"
      ],
      "text/latex": [
       "'complex'"
      ],
      "text/markdown": [
       "'complex'"
      ],
      "text/plain": [
       "[1] \"complex\""
      ]
     },
     "metadata": {},
     "output_type": "display_data"
    }
   ],
   "source": [
    "b <- 5+3i\n",
    "mode(b)"
   ]
  },
  {
   "cell_type": "code",
   "execution_count": 55,
   "metadata": {
    "collapsed": false
   },
   "outputs": [
    {
     "data": {
      "text/html": [
       "'numeric'"
      ],
      "text/latex": [
       "'numeric'"
      ],
      "text/markdown": [
       "'numeric'"
      ],
      "text/plain": [
       "[1] \"numeric\""
      ]
     },
     "metadata": {},
     "output_type": "display_data"
    }
   ],
   "source": [
    "c <- 1.3e4\n",
    "mode(c)"
   ]
  },
  {
   "cell_type": "code",
   "execution_count": 58,
   "metadata": {
    "collapsed": false
   },
   "outputs": [
    {
     "data": {
      "text/html": [
       "'numeric'"
      ],
      "text/latex": [
       "'numeric'"
      ],
      "text/markdown": [
       "'numeric'"
      ],
      "text/plain": [
       "[1] \"numeric\""
      ]
     },
     "metadata": {},
     "output_type": "display_data"
    }
   ],
   "source": [
    "d <- sqrt(2)\n",
    "mode(d)"
   ]
  },
  {
   "cell_type": "markdown",
   "metadata": {},
   "source": [
    "### Entrada de datos manual"
   ]
  },
  {
   "cell_type": "markdown",
   "metadata": {},
   "source": [
    "### Incidencias en el sistema de la universidad"
   ]
  },
  {
   "cell_type": "code",
   "execution_count": 102,
   "metadata": {
    "collapsed": true
   },
   "outputs": [],
   "source": [
    "incidencias <-c(123,89,142,118,109)"
   ]
  },
  {
   "cell_type": "code",
   "execution_count": 103,
   "metadata": {
    "collapsed": false
   },
   "outputs": [],
   "source": [
    "names(incidencias)<-c(\"Lunes\",\"Martes\", \"Miercoles\",\"Jueves\",\"Viernes\")"
   ]
  },
  {
   "cell_type": "code",
   "execution_count": 68,
   "metadata": {
    "collapsed": false
   },
   "outputs": [
    {
     "data": {
      "text/html": [
       "<dl class=dl-horizontal>\n",
       "\t<dt>Lunes</dt>\n",
       "\t\t<dd>123</dd>\n",
       "\t<dt>Martes</dt>\n",
       "\t\t<dd>89</dd>\n",
       "\t<dt>Miercoles</dt>\n",
       "\t\t<dd>142</dd>\n",
       "\t<dt>Jueves</dt>\n",
       "\t\t<dd>118</dd>\n",
       "\t<dt>Viernes</dt>\n",
       "\t\t<dd>109</dd>\n",
       "</dl>\n"
      ],
      "text/latex": [
       "\\begin{description*}\n",
       "\\item[Lunes] 123\n",
       "\\item[Martes] 89\n",
       "\\item[Miercoles] 142\n",
       "\\item[Jueves] 118\n",
       "\\item[Viernes] 109\n",
       "\\end{description*}\n"
      ],
      "text/markdown": [
       "Lunes\n",
       ":   123Martes\n",
       ":   89Miercoles\n",
       ":   142Jueves\n",
       ":   118Viernes\n",
       ":   109\n",
       "\n"
      ],
      "text/plain": [
       "    Lunes    Martes Miercoles    Jueves   Viernes \n",
       "      123        89       142       118       109 "
      ]
     },
     "metadata": {},
     "output_type": "display_data"
    }
   ],
   "source": [
    "incidencias"
   ]
  },
  {
   "cell_type": "code",
   "execution_count": 69,
   "metadata": {
    "collapsed": false
   },
   "outputs": [
    {
     "data": {
      "text/html": [
       "<strong>Lunes:</strong> 123"
      ],
      "text/latex": [
       "\\textbf{Lunes:} 123"
      ],
      "text/markdown": [
       "**Lunes:** 123"
      ],
      "text/plain": [
       "Lunes \n",
       "  123 "
      ]
     },
     "metadata": {},
     "output_type": "display_data"
    }
   ],
   "source": [
    "incidencias[1]"
   ]
  },
  {
   "cell_type": "code",
   "execution_count": 70,
   "metadata": {
    "collapsed": false
   },
   "outputs": [
    {
     "data": {
      "text/html": [
       "<strong>Lunes:</strong> 123"
      ],
      "text/latex": [
       "\\textbf{Lunes:} 123"
      ],
      "text/markdown": [
       "**Lunes:** 123"
      ],
      "text/plain": [
       "Lunes \n",
       "  123 "
      ]
     },
     "metadata": {},
     "output_type": "display_data"
    }
   ],
   "source": [
    "incidencias['Lunes']"
   ]
  },
  {
   "cell_type": "code",
   "execution_count": 71,
   "metadata": {
    "collapsed": false
   },
   "outputs": [
    {
     "data": {
      "text/html": [
       "581"
      ],
      "text/latex": [
       "581"
      ],
      "text/markdown": [
       "581"
      ],
      "text/plain": [
       "[1] 581"
      ]
     },
     "metadata": {},
     "output_type": "display_data"
    }
   ],
   "source": [
    "sum(incidencias)"
   ]
  },
  {
   "cell_type": "code",
   "execution_count": 72,
   "metadata": {
    "collapsed": false
   },
   "outputs": [
    {
     "data": {
      "text/html": [
       "5"
      ],
      "text/latex": [
       "5"
      ],
      "text/markdown": [
       "5"
      ],
      "text/plain": [
       "[1] 5"
      ]
     },
     "metadata": {},
     "output_type": "display_data"
    }
   ],
   "source": [
    "length(incidencias)"
   ]
  },
  {
   "cell_type": "markdown",
   "metadata": {},
   "source": [
    "### Calculo de la media:\n",
    "\n",
    "$$ \\hat{x}  = \\frac{\\sum^n_{i=1} x_i}{n}  $$"
   ]
  },
  {
   "cell_type": "code",
   "execution_count": 73,
   "metadata": {
    "collapsed": false
   },
   "outputs": [
    {
     "data": {
      "text/html": [
       "116.2"
      ],
      "text/latex": [
       "116.2"
      ],
      "text/markdown": [
       "116.2"
      ],
      "text/plain": [
       "[1] 116.2"
      ]
     },
     "metadata": {},
     "output_type": "display_data"
    }
   ],
   "source": [
    "x = sum(incidencias)/length(incidencias)\n",
    "x"
   ]
  },
  {
   "cell_type": "code",
   "execution_count": 74,
   "metadata": {
    "collapsed": false
   },
   "outputs": [
    {
     "data": {
      "text/html": [
       "116.2"
      ],
      "text/latex": [
       "116.2"
      ],
      "text/markdown": [
       "116.2"
      ],
      "text/plain": [
       "[1] 116.2"
      ]
     },
     "metadata": {},
     "output_type": "display_data"
    }
   ],
   "source": [
    "mean(incidencias)"
   ]
  },
  {
   "cell_type": "markdown",
   "metadata": {},
   "source": [
    "### Funciones basicas sobre vectores:\n",
    "\n",
    "* sum()\n",
    "* length() \n",
    "* sort()\n",
    "* min() \n",
    "* max()\n",
    "* range()\n",
    "* cumsum() \n",
    "* diff()"
   ]
  },
  {
   "cell_type": "code",
   "execution_count": 75,
   "metadata": {
    "collapsed": false
   },
   "outputs": [
    {
     "data": {
      "text/html": [
       "<ol class=list-inline>\n",
       "\t<li>89</li>\n",
       "\t<li>142</li>\n",
       "</ol>\n"
      ],
      "text/latex": [
       "\\begin{enumerate*}\n",
       "\\item 89\n",
       "\\item 142\n",
       "\\end{enumerate*}\n"
      ],
      "text/markdown": [
       "1. 89\n",
       "2. 142\n",
       "\n",
       "\n"
      ],
      "text/plain": [
       "[1]  89 142"
      ]
     },
     "metadata": {},
     "output_type": "display_data"
    }
   ],
   "source": [
    "range(incidencias)"
   ]
  },
  {
   "cell_type": "code",
   "execution_count": 76,
   "metadata": {
    "collapsed": false
   },
   "outputs": [
    {
     "data": {
      "text/html": [
       "<dl class=dl-horizontal>\n",
       "\t<dt>Martes</dt>\n",
       "\t\t<dd>-34</dd>\n",
       "\t<dt>Miercoles</dt>\n",
       "\t\t<dd>53</dd>\n",
       "\t<dt>Jueves</dt>\n",
       "\t\t<dd>-24</dd>\n",
       "\t<dt>Viernes</dt>\n",
       "\t\t<dd>-9</dd>\n",
       "</dl>\n"
      ],
      "text/latex": [
       "\\begin{description*}\n",
       "\\item[Martes] -34\n",
       "\\item[Miercoles] 53\n",
       "\\item[Jueves] -24\n",
       "\\item[Viernes] -9\n",
       "\\end{description*}\n"
      ],
      "text/markdown": [
       "Martes\n",
       ":   -34Miercoles\n",
       ":   53Jueves\n",
       ":   -24Viernes\n",
       ":   -9\n",
       "\n"
      ],
      "text/plain": [
       "   Martes Miercoles    Jueves   Viernes \n",
       "      -34        53       -24        -9 "
      ]
     },
     "metadata": {},
     "output_type": "display_data"
    }
   ],
   "source": [
    "diff(incidencias)"
   ]
  },
  {
   "cell_type": "code",
   "execution_count": 77,
   "metadata": {
    "collapsed": false
   },
   "outputs": [
    {
     "data": {
      "text/html": [
       "<dl class=dl-horizontal>\n",
       "\t<dt>Lunes</dt>\n",
       "\t\t<dd>123</dd>\n",
       "\t<dt>Martes</dt>\n",
       "\t\t<dd>212</dd>\n",
       "\t<dt>Miercoles</dt>\n",
       "\t\t<dd>354</dd>\n",
       "\t<dt>Jueves</dt>\n",
       "\t\t<dd>472</dd>\n",
       "\t<dt>Viernes</dt>\n",
       "\t\t<dd>581</dd>\n",
       "</dl>\n"
      ],
      "text/latex": [
       "\\begin{description*}\n",
       "\\item[Lunes] 123\n",
       "\\item[Martes] 212\n",
       "\\item[Miercoles] 354\n",
       "\\item[Jueves] 472\n",
       "\\item[Viernes] 581\n",
       "\\end{description*}\n"
      ],
      "text/markdown": [
       "Lunes\n",
       ":   123Martes\n",
       ":   212Miercoles\n",
       ":   354Jueves\n",
       ":   472Viernes\n",
       ":   581\n",
       "\n"
      ],
      "text/plain": [
       "    Lunes    Martes Miercoles    Jueves   Viernes \n",
       "      123       212       354       472       581 "
      ]
     },
     "metadata": {},
     "output_type": "display_data"
    }
   ],
   "source": [
    "cumsum(incidencias)"
   ]
  },
  {
   "cell_type": "markdown",
   "metadata": {},
   "source": [
    "### Incidencias resueltas de forma exitosa"
   ]
  },
  {
   "cell_type": "code",
   "execution_count": 83,
   "metadata": {
    "collapsed": false
   },
   "outputs": [],
   "source": [
    "positivas<-c(65,54,67,59,53)"
   ]
  },
  {
   "cell_type": "markdown",
   "metadata": {},
   "source": [
    "### ¿Cuantas incidencias quedan entonces como negativas?"
   ]
  },
  {
   "cell_type": "code",
   "execution_count": 81,
   "metadata": {
    "collapsed": false
   },
   "outputs": [
    {
     "data": {
      "text/html": [
       "<dl class=dl-horizontal>\n",
       "\t<dt>Lunes</dt>\n",
       "\t\t<dd>58</dd>\n",
       "\t<dt>Martes</dt>\n",
       "\t\t<dd>35</dd>\n",
       "\t<dt>Miercoles</dt>\n",
       "\t\t<dd>75</dd>\n",
       "\t<dt>Jueves</dt>\n",
       "\t\t<dd>59</dd>\n",
       "\t<dt>Viernes</dt>\n",
       "\t\t<dd>56</dd>\n",
       "</dl>\n"
      ],
      "text/latex": [
       "\\begin{description*}\n",
       "\\item[Lunes] 58\n",
       "\\item[Martes] 35\n",
       "\\item[Miercoles] 75\n",
       "\\item[Jueves] 59\n",
       "\\item[Viernes] 56\n",
       "\\end{description*}\n"
      ],
      "text/markdown": [
       "Lunes\n",
       ":   58Martes\n",
       ":   35Miercoles\n",
       ":   75Jueves\n",
       ":   59Viernes\n",
       ":   56\n",
       "\n"
      ],
      "text/plain": [
       "    Lunes    Martes Miercoles    Jueves   Viernes \n",
       "       58        35        75        59        56 "
      ]
     },
     "metadata": {},
     "output_type": "display_data"
    }
   ],
   "source": [
    "negativas = incidencias-positivas\n",
    "negativas"
   ]
  },
  {
   "cell_type": "markdown",
   "metadata": {},
   "source": [
    "### ¿Qué porcentaje del total son las incidencias positivas?"
   ]
  },
  {
   "cell_type": "code",
   "execution_count": 85,
   "metadata": {
    "collapsed": false
   },
   "outputs": [
    {
     "data": {
      "text/html": [
       "<dl class=dl-horizontal>\n",
       "\t<dt>Lunes</dt>\n",
       "\t\t<dd>52.8455284552846</dd>\n",
       "\t<dt>Martes</dt>\n",
       "\t\t<dd>60.6741573033708</dd>\n",
       "\t<dt>Miercoles</dt>\n",
       "\t\t<dd>47.1830985915493</dd>\n",
       "\t<dt>Jueves</dt>\n",
       "\t\t<dd>50</dd>\n",
       "\t<dt>Viernes</dt>\n",
       "\t\t<dd>48.6238532110092</dd>\n",
       "</dl>\n"
      ],
      "text/latex": [
       "\\begin{description*}\n",
       "\\item[Lunes] 52.8455284552846\n",
       "\\item[Martes] 60.6741573033708\n",
       "\\item[Miercoles] 47.1830985915493\n",
       "\\item[Jueves] 50\n",
       "\\item[Viernes] 48.6238532110092\n",
       "\\end{description*}\n"
      ],
      "text/markdown": [
       "Lunes\n",
       ":   52.8455284552846Martes\n",
       ":   60.6741573033708Miercoles\n",
       ":   47.1830985915493Jueves\n",
       ":   50Viernes\n",
       ":   48.6238532110092\n",
       "\n"
      ],
      "text/plain": [
       "    Lunes    Martes Miercoles    Jueves   Viernes \n",
       " 52.84553  60.67416  47.18310  50.00000  48.62385 "
      ]
     },
     "metadata": {},
     "output_type": "display_data"
    }
   ],
   "source": [
    "calidad <-(positivas/incidencias)*100\n",
    "calidad"
   ]
  },
  {
   "cell_type": "markdown",
   "metadata": {},
   "source": [
    "### Calculo de la varianza\n",
    "\n",
    "$$ \\sigma^2 = \\frac{\\sum_{i=1}^{n}(\\hat{x} - x_i)^2}{n-1} $$"
   ]
  },
  {
   "cell_type": "code",
   "execution_count": 107,
   "metadata": {
    "collapsed": false
   },
   "outputs": [
    {
     "data": {
      "text/html": [
       "376.7"
      ],
      "text/latex": [
       "376.7"
      ],
      "text/markdown": [
       "376.7"
      ],
      "text/plain": [
       "[1] 376.7"
      ]
     },
     "metadata": {},
     "output_type": "display_data"
    }
   ],
   "source": [
    "media <- mean(incidencias)\n",
    "n <- length(incidencias)\n",
    "varianza <- sum((media-incidencias)^2)/(n-1) \n",
    "varianza"
   ]
  },
  {
   "cell_type": "code",
   "execution_count": 108,
   "metadata": {
    "collapsed": false
   },
   "outputs": [
    {
     "data": {
      "text/html": [
       "376.7"
      ],
      "text/latex": [
       "376.7"
      ],
      "text/markdown": [
       "376.7"
      ],
      "text/plain": [
       "[1] 376.7"
      ]
     },
     "metadata": {},
     "output_type": "display_data"
    }
   ],
   "source": [
    "var(incidencias)"
   ]
  },
  {
   "cell_type": "markdown",
   "metadata": {},
   "source": [
    "### Indexando"
   ]
  },
  {
   "cell_type": "code",
   "execution_count": 111,
   "metadata": {
    "collapsed": false
   },
   "outputs": [
    {
     "data": {
      "text/html": [
       "<strong>Lunes:</strong> 123"
      ],
      "text/latex": [
       "\\textbf{Lunes:} 123"
      ],
      "text/markdown": [
       "**Lunes:** 123"
      ],
      "text/plain": [
       "Lunes \n",
       "  123 "
      ]
     },
     "metadata": {},
     "output_type": "display_data"
    }
   ],
   "source": [
    "incidencias[1]"
   ]
  },
  {
   "cell_type": "code",
   "execution_count": 112,
   "metadata": {
    "collapsed": false
   },
   "outputs": [
    {
     "data": {
      "text/html": [
       "<strong>Viernes:</strong> 109"
      ],
      "text/latex": [
       "\\textbf{Viernes:} 109"
      ],
      "text/markdown": [
       "**Viernes:** 109"
      ],
      "text/plain": [
       "Viernes \n",
       "    109 "
      ]
     },
     "metadata": {},
     "output_type": "display_data"
    }
   ],
   "source": [
    "incidencias[length(incidencias)]"
   ]
  },
  {
   "cell_type": "code",
   "execution_count": 113,
   "metadata": {
    "collapsed": false
   },
   "outputs": [
    {
     "data": {
      "text/html": [
       "<dl class=dl-horizontal>\n",
       "\t<dt>Lunes</dt>\n",
       "\t\t<dd>123</dd>\n",
       "\t<dt>Martes</dt>\n",
       "\t\t<dd>89</dd>\n",
       "\t<dt>Miercoles</dt>\n",
       "\t\t<dd>142</dd>\n",
       "</dl>\n"
      ],
      "text/latex": [
       "\\begin{description*}\n",
       "\\item[Lunes] 123\n",
       "\\item[Martes] 89\n",
       "\\item[Miercoles] 142\n",
       "\\end{description*}\n"
      ],
      "text/markdown": [
       "Lunes\n",
       ":   123Martes\n",
       ":   89Miercoles\n",
       ":   142\n",
       "\n"
      ],
      "text/plain": [
       "    Lunes    Martes Miercoles \n",
       "      123        89       142 "
      ]
     },
     "metadata": {},
     "output_type": "display_data"
    }
   ],
   "source": [
    "incidencias[1:3]"
   ]
  },
  {
   "cell_type": "code",
   "execution_count": 114,
   "metadata": {
    "collapsed": false
   },
   "outputs": [
    {
     "data": {
      "text/html": [
       "<dl class=dl-horizontal>\n",
       "\t<dt>Lunes</dt>\n",
       "\t\t<dd>123</dd>\n",
       "\t<dt>Miercoles</dt>\n",
       "\t\t<dd>142</dd>\n",
       "\t<dt>Viernes</dt>\n",
       "\t\t<dd>109</dd>\n",
       "</dl>\n"
      ],
      "text/latex": [
       "\\begin{description*}\n",
       "\\item[Lunes] 123\n",
       "\\item[Miercoles] 142\n",
       "\\item[Viernes] 109\n",
       "\\end{description*}\n"
      ],
      "text/markdown": [
       "Lunes\n",
       ":   123Miercoles\n",
       ":   142Viernes\n",
       ":   109\n",
       "\n"
      ],
      "text/plain": [
       "    Lunes Miercoles   Viernes \n",
       "      123       142       109 "
      ]
     },
     "metadata": {},
     "output_type": "display_data"
    }
   ],
   "source": [
    "incidencias[c(1,3,5)]"
   ]
  },
  {
   "cell_type": "code",
   "execution_count": 115,
   "metadata": {
    "collapsed": false
   },
   "outputs": [
    {
     "data": {
      "text/html": [
       "<dl class=dl-horizontal>\n",
       "\t<dt>Martes</dt>\n",
       "\t\t<dd>89</dd>\n",
       "\t<dt>Miercoles</dt>\n",
       "\t\t<dd>142</dd>\n",
       "\t<dt>Jueves</dt>\n",
       "\t\t<dd>118</dd>\n",
       "\t<dt>Viernes</dt>\n",
       "\t\t<dd>109</dd>\n",
       "</dl>\n"
      ],
      "text/latex": [
       "\\begin{description*}\n",
       "\\item[Martes] 89\n",
       "\\item[Miercoles] 142\n",
       "\\item[Jueves] 118\n",
       "\\item[Viernes] 109\n",
       "\\end{description*}\n"
      ],
      "text/markdown": [
       "Martes\n",
       ":   89Miercoles\n",
       ":   142Jueves\n",
       ":   118Viernes\n",
       ":   109\n",
       "\n"
      ],
      "text/plain": [
       "   Martes Miercoles    Jueves   Viernes \n",
       "       89       142       118       109 "
      ]
     },
     "metadata": {},
     "output_type": "display_data"
    }
   ],
   "source": [
    "incidencias[-1]"
   ]
  },
  {
   "cell_type": "code",
   "execution_count": 116,
   "metadata": {
    "collapsed": false
   },
   "outputs": [
    {
     "data": {
      "text/html": [
       "<strong>Martes:</strong> 89"
      ],
      "text/latex": [
       "\\textbf{Martes:} 89"
      ],
      "text/markdown": [
       "**Martes:** 89"
      ],
      "text/plain": [
       "Martes \n",
       "    89 "
      ]
     },
     "metadata": {},
     "output_type": "display_data"
    }
   ],
   "source": [
    "incidencias[\"Martes\"]"
   ]
  },
  {
   "cell_type": "code",
   "execution_count": 117,
   "metadata": {
    "collapsed": false
   },
   "outputs": [
    {
     "data": {
      "text/html": [
       "<dl class=dl-horizontal>\n",
       "\t<dt>Lunes</dt>\n",
       "\t\t<dd>TRUE</dd>\n",
       "\t<dt>Martes</dt>\n",
       "\t\t<dd>FALSE</dd>\n",
       "\t<dt>Miercoles</dt>\n",
       "\t\t<dd>TRUE</dd>\n",
       "\t<dt>Jueves</dt>\n",
       "\t\t<dd>TRUE</dd>\n",
       "\t<dt>Viernes</dt>\n",
       "\t\t<dd>FALSE</dd>\n",
       "</dl>\n"
      ],
      "text/latex": [
       "\\begin{description*}\n",
       "\\item[Lunes] TRUE\n",
       "\\item[Martes] FALSE\n",
       "\\item[Miercoles] TRUE\n",
       "\\item[Jueves] TRUE\n",
       "\\item[Viernes] FALSE\n",
       "\\end{description*}\n"
      ],
      "text/markdown": [
       "Lunes\n",
       ":   TRUEMartes\n",
       ":   FALSEMiercoles\n",
       ":   TRUEJueves\n",
       ":   TRUEViernes\n",
       ":   FALSE\n",
       "\n"
      ],
      "text/plain": [
       "    Lunes    Martes Miercoles    Jueves   Viernes \n",
       "     TRUE     FALSE      TRUE      TRUE     FALSE "
      ]
     },
     "metadata": {},
     "output_type": "display_data"
    }
   ],
   "source": [
    "incidencias>110"
   ]
  },
  {
   "cell_type": "code",
   "execution_count": 118,
   "metadata": {
    "collapsed": false
   },
   "outputs": [
    {
     "data": {
      "text/html": [
       "<dl class=dl-horizontal>\n",
       "\t<dt>Lunes</dt>\n",
       "\t\t<dd>123</dd>\n",
       "\t<dt>Miercoles</dt>\n",
       "\t\t<dd>142</dd>\n",
       "\t<dt>Jueves</dt>\n",
       "\t\t<dd>118</dd>\n",
       "</dl>\n"
      ],
      "text/latex": [
       "\\begin{description*}\n",
       "\\item[Lunes] 123\n",
       "\\item[Miercoles] 142\n",
       "\\item[Jueves] 118\n",
       "\\end{description*}\n"
      ],
      "text/markdown": [
       "Lunes\n",
       ":   123Miercoles\n",
       ":   142Jueves\n",
       ":   118\n",
       "\n"
      ],
      "text/plain": [
       "    Lunes Miercoles    Jueves \n",
       "      123       142       118 "
      ]
     },
     "metadata": {},
     "output_type": "display_data"
    }
   ],
   "source": [
    "incidencias[incidencias>110]"
   ]
  },
  {
   "cell_type": "code",
   "execution_count": 119,
   "metadata": {
    "collapsed": false
   },
   "outputs": [
    {
     "data": {
      "text/html": [
       "<dl class=dl-horizontal>\n",
       "\t<dt>Lunes</dt>\n",
       "\t\t<dd>1</dd>\n",
       "\t<dt>Miercoles</dt>\n",
       "\t\t<dd>3</dd>\n",
       "\t<dt>Jueves</dt>\n",
       "\t\t<dd>4</dd>\n",
       "</dl>\n"
      ],
      "text/latex": [
       "\\begin{description*}\n",
       "\\item[Lunes] 1\n",
       "\\item[Miercoles] 3\n",
       "\\item[Jueves] 4\n",
       "\\end{description*}\n"
      ],
      "text/markdown": [
       "Lunes\n",
       ":   1Miercoles\n",
       ":   3Jueves\n",
       ":   4\n",
       "\n"
      ],
      "text/plain": [
       "    Lunes Miercoles    Jueves \n",
       "        1         3         4 "
      ]
     },
     "metadata": {},
     "output_type": "display_data"
    }
   ],
   "source": [
    "which(incidencias>110)"
   ]
  },
  {
   "cell_type": "code",
   "execution_count": 120,
   "metadata": {
    "collapsed": false
   },
   "outputs": [
    {
     "data": {
      "text/html": [
       "3"
      ],
      "text/latex": [
       "3"
      ],
      "text/markdown": [
       "3"
      ],
      "text/plain": [
       "[1] 3"
      ]
     },
     "metadata": {},
     "output_type": "display_data"
    }
   ],
   "source": [
    "sum(incidencias>110) # Hay tres dias con mas de 110 incidencias"
   ]
  },
  {
   "cell_type": "markdown",
   "metadata": {},
   "source": [
    "### Representar datos"
   ]
  },
  {
   "cell_type": "code",
   "execution_count": 148,
   "metadata": {
    "collapsed": false
   },
   "outputs": [
    {
     "data": {
      "image/png": "[encoded data removed]",
      "text/plain": [
       "plot without title"
      ]
     },
     "metadata": {},
     "output_type": "display_data"
    }
   ],
   "source": [
    "plot(incidencias, asp = 0.05 , type = 'o')"
   ]
  },
  {
   "cell_type": "code",
   "execution_count": 153,
   "metadata": {
    "collapsed": false
   },
   "outputs": [
    {
     "data": {
      "image/png": "[encoded data removed]",
      "text/plain": [
       "plot without title"
      ]
     },
     "metadata": {},
     "output_type": "display_data"
    }
   ],
   "source": [
    "plot(incidencias,type=\"b\",asp = 0.05)"
   ]
  },
  {
   "cell_type": "markdown",
   "metadata": {},
   "source": [
    "### Directorio de trabajo actual"
   ]
  },
  {
   "cell_type": "code",
   "execution_count": 135,
   "metadata": {
    "collapsed": false
   },
   "outputs": [
    {
     "data": {
      "text/html": [
       "'/Users/joseangelvelasco/Documents/Python/intro_r'"
      ],
      "text/latex": [
       "'/Users/joseangelvelasco/Documents/Python/intro\\_r'"
      ],
      "text/markdown": [
       "'/Users/joseangelvelasco/Documents/Python/intro_r'"
      ],
      "text/plain": [
       "[1] \"/Users/joseangelvelasco/Documents/Python/intro_r\""
      ]
     },
     "metadata": {},
     "output_type": "display_data"
    }
   ],
   "source": [
    "getwd() "
   ]
  },
  {
   "cell_type": "markdown",
   "metadata": {},
   "source": [
    "### Establercer directorio nuevo"
   ]
  },
  {
   "cell_type": "code",
   "execution_count": 136,
   "metadata": {
    "collapsed": true
   },
   "outputs": [],
   "source": [
    "setwd(\"/Users/joseangelvelasco/Documents/Python/intro_r\")"
   ]
  },
  {
   "cell_type": "markdown",
   "metadata": {},
   "source": [
    "### Guardar datos en un txt/csv"
   ]
  },
  {
   "cell_type": "code",
   "execution_count": 156,
   "metadata": {
    "collapsed": true
   },
   "outputs": [],
   "source": [
    "write(incidencias,\"incidencias.csv\",ncolumns=1)"
   ]
  },
  {
   "cell_type": "code",
   "execution_count": 164,
   "metadata": {
    "collapsed": false
   },
   "outputs": [
    {
     "data": {
      "text/html": [],
      "text/latex": [],
      "text/markdown": [],
      "text/plain": [
       "character(0)"
      ]
     },
     "metadata": {},
     "output_type": "display_data"
    }
   ],
   "source": [
    "rm(list=ls())\n",
    "ls()\n",
    "incidencias<-scan(\"incidencias.csv\")"
   ]
  },
  {
   "cell_type": "code",
   "execution_count": 165,
   "metadata": {
    "collapsed": false
   },
   "outputs": [
    {
     "data": {
      "text/html": [
       "<ol class=list-inline>\n",
       "\t<li>123</li>\n",
       "\t<li>89</li>\n",
       "\t<li>142</li>\n",
       "\t<li>118</li>\n",
       "\t<li>109</li>\n",
       "</ol>\n"
      ],
      "text/latex": [
       "\\begin{enumerate*}\n",
       "\\item 123\n",
       "\\item 89\n",
       "\\item 142\n",
       "\\item 118\n",
       "\\item 109\n",
       "\\end{enumerate*}\n"
      ],
      "text/markdown": [
       "1. 123\n",
       "2. 89\n",
       "3. 142\n",
       "4. 118\n",
       "5. 109\n",
       "\n",
       "\n"
      ],
      "text/plain": [
       "[1] 123  89 142 118 109"
      ]
     },
     "metadata": {},
     "output_type": "display_data"
    }
   ],
   "source": [
    "incidencias"
   ]
  },
  {
   "cell_type": "markdown",
   "metadata": {},
   "source": [
    "### Guardar datos en formato R"
   ]
  },
  {
   "cell_type": "code",
   "execution_count": 166,
   "metadata": {
    "collapsed": true
   },
   "outputs": [],
   "source": [
    "save(incidencias,file=\"incidencias.Rdata\")"
   ]
  },
  {
   "cell_type": "code",
   "execution_count": 167,
   "metadata": {
    "collapsed": false
   },
   "outputs": [
    {
     "data": {
      "text/html": [
       "<ol class=list-inline>\n",
       "\t<li>123</li>\n",
       "\t<li>89</li>\n",
       "\t<li>142</li>\n",
       "\t<li>118</li>\n",
       "\t<li>109</li>\n",
       "</ol>\n"
      ],
      "text/latex": [
       "\\begin{enumerate*}\n",
       "\\item 123\n",
       "\\item 89\n",
       "\\item 142\n",
       "\\item 118\n",
       "\\item 109\n",
       "\\end{enumerate*}\n"
      ],
      "text/markdown": [
       "1. 123\n",
       "2. 89\n",
       "3. 142\n",
       "4. 118\n",
       "5. 109\n",
       "\n",
       "\n"
      ],
      "text/plain": [
       "[1] 123  89 142 118 109"
      ]
     },
     "metadata": {},
     "output_type": "display_data"
    }
   ],
   "source": [
    "load(\"incidencias.Rdata\")\n",
    "incidencias"
   ]
  },
  {
   "cell_type": "markdown",
   "metadata": {},
   "source": [
    "### Guardar todo el workspace"
   ]
  },
  {
   "cell_type": "code",
   "execution_count": 168,
   "metadata": {
    "collapsed": true
   },
   "outputs": [],
   "source": [
    "save.image(file=\"practica1.Rdata\")"
   ]
  },
  {
   "cell_type": "markdown",
   "metadata": {},
   "source": [
    "# Ejercicio 1.1: \n",
    "### Análisis estadístico de los kilómetros recorridos por un vehiculo nuevo"
   ]
  },
  {
   "cell_type": "code",
   "execution_count": 285,
   "metadata": {
    "collapsed": false
   },
   "outputs": [],
   "source": [
    "rm(list=ls())\n",
    "data <- read.csv(file=\"data/kilometros.csv\", header=TRUE, sep=\",\")"
   ]
  },
  {
   "cell_type": "code",
   "execution_count": 286,
   "metadata": {
    "collapsed": false
   },
   "outputs": [
    {
     "data": {
      "image/png": "[encoded data removed]",
      "text/plain": [
       "plot without title"
      ]
     },
     "metadata": {},
     "output_type": "display_data"
    }
   ],
   "source": [
    "plot(data[['kilometros']])"
   ]
  },
  {
   "cell_type": "code",
   "execution_count": 287,
   "metadata": {
    "collapsed": false
   },
   "outputs": [
    {
     "data": {
      "text/html": [
       "<ol class=list-inline>\n",
       "\t<li>2701</li>\n",
       "\t<li>2034</li>\n",
       "\t<li>2838</li>\n",
       "\t<li>1514</li>\n",
       "\t<li>904</li>\n",
       "\t<li>1940</li>\n",
       "\t<li>1932</li>\n",
       "\t<li>2282</li>\n",
       "\t<li>2011</li>\n",
       "\t<li>894</li>\n",
       "\t<li>4102</li>\n",
       "</ol>\n"
      ],
      "text/latex": [
       "\\begin{enumerate*}\n",
       "\\item 2701\n",
       "\\item 2034\n",
       "\\item 2838\n",
       "\\item 1514\n",
       "\\item 904\n",
       "\\item 1940\n",
       "\\item 1932\n",
       "\\item 2282\n",
       "\\item 2011\n",
       "\\item 894\n",
       "\\item 4102\n",
       "\\end{enumerate*}\n"
      ],
      "text/markdown": [
       "1. 2701\n",
       "2. 2034\n",
       "3. 2838\n",
       "4. 1514\n",
       "5. 904\n",
       "6. 1940\n",
       "7. 1932\n",
       "8. 2282\n",
       "9. 2011\n",
       "10. 894\n",
       "11. 4102\n",
       "\n",
       "\n"
      ],
      "text/plain": [
       " [1] 2701 2034 2838 1514  904 1940 1932 2282 2011  894 4102"
      ]
     },
     "metadata": {},
     "output_type": "display_data"
    }
   ],
   "source": [
    "diff(data[['kilometros']])"
   ]
  },
  {
   "cell_type": "code",
   "execution_count": 288,
   "metadata": {
    "collapsed": false
   },
   "outputs": [
    {
     "data": {
      "text/html": [
       "12"
      ],
      "text/latex": [
       "12"
      ],
      "text/markdown": [
       "12"
      ],
      "text/plain": [
       "[1] 12"
      ]
     },
     "metadata": {},
     "output_type": "display_data"
    }
   ],
   "source": [
    "length(data[['kilometros']])"
   ]
  },
  {
   "cell_type": "code",
   "execution_count": 291,
   "metadata": {
    "collapsed": false
   },
   "outputs": [
    {
     "data": {
      "text/html": [
       "2104.72727272727"
      ],
      "text/latex": [
       "2104.72727272727"
      ],
      "text/markdown": [
       "2104.72727272727"
      ],
      "text/plain": [
       "[1] 2104.727"
      ]
     },
     "metadata": {},
     "output_type": "display_data"
    }
   ],
   "source": [
    "mean(diff(data[['kilometros']]))"
   ]
  },
  {
   "cell_type": "code",
   "execution_count": 293,
   "metadata": {
    "collapsed": false
   },
   "outputs": [
    {
     "data": {
      "text/html": [
       "907.803733293611"
      ],
      "text/latex": [
       "907.803733293611"
      ],
      "text/markdown": [
       "907.803733293611"
      ],
      "text/plain": [
       "[1] 907.8037"
      ]
     },
     "metadata": {},
     "output_type": "display_data"
    }
   ],
   "source": [
    "sd(diff(data[['kilometros']]))"
   ]
  },
  {
   "cell_type": "code",
   "execution_count": 295,
   "metadata": {
    "collapsed": false
   },
   "outputs": [
    {
     "data": {
      "text/plain": [
       "   Min. 1st Qu.  Median    Mean 3rd Qu.    Max. \n",
       "    894    1723    2011    2105    2492    4102 "
      ]
     },
     "metadata": {},
     "output_type": "display_data"
    }
   ],
   "source": [
    "summary(diff(data[[\"kilometros\"]]))"
   ]
  },
  {
   "cell_type": "markdown",
   "metadata": {},
   "source": [
    "# Ejercicio 1.2:\n",
    "### Se han registrado los kilómetros marcados por un vehículo en los 8 últimos repostajes:\n",
    "### 55311, 55631, 55912, 56215, 56499, 56826, 57145, 57442"
   ]
  },
  {
   "cell_type": "markdown",
   "metadata": {},
   "source": [
    "### Introducir estos valores en una variable llamada kilometros."
   ]
  },
  {
   "cell_type": "code",
   "execution_count": 297,
   "metadata": {
    "collapsed": true
   },
   "outputs": [],
   "source": [
    "kilometros <- c(55311, 55631, 55912, 56215, 56499, 56826, 57145, 57442)"
   ]
  },
  {
   "cell_type": "markdown",
   "metadata": {},
   "source": [
    "### Aplicar la función diff() a dicha variable y explicar el resultado obtenido."
   ]
  },
  {
   "cell_type": "code",
   "execution_count": 254,
   "metadata": {
    "collapsed": false
   },
   "outputs": [
    {
     "data": {
      "text/html": [
       "<ol class=list-inline>\n",
       "\t<li>320</li>\n",
       "\t<li>281</li>\n",
       "\t<li>303</li>\n",
       "\t<li>284</li>\n",
       "\t<li>327</li>\n",
       "\t<li>319</li>\n",
       "\t<li>297</li>\n",
       "</ol>\n"
      ],
      "text/latex": [
       "\\begin{enumerate*}\n",
       "\\item 320\n",
       "\\item 281\n",
       "\\item 303\n",
       "\\item 284\n",
       "\\item 327\n",
       "\\item 319\n",
       "\\item 297\n",
       "\\end{enumerate*}\n"
      ],
      "text/markdown": [
       "1. 320\n",
       "2. 281\n",
       "3. 303\n",
       "4. 284\n",
       "5. 327\n",
       "6. 319\n",
       "7. 297\n",
       "\n",
       "\n"
      ],
      "text/plain": [
       "[1] 320 281 303 284 327 319 297"
      ]
     },
     "metadata": {},
     "output_type": "display_data"
    }
   ],
   "source": [
    "diff(kilometros)"
   ]
  },
  {
   "cell_type": "markdown",
   "metadata": {},
   "source": [
    "La función diff() devuele el cambio positivo o negativo que \n",
    "se produce en el valor de cada posición de vectoe kilometros.\n",
    "\n",
    "Es decir, se obtiene los kilometros recorridos con cada deposito"
   ]
  },
  {
   "cell_type": "markdown",
   "metadata": {},
   "source": [
    "### Comparar y discutir el resultado de las funciones mean() y mean(diff())."
   ]
  },
  {
   "cell_type": "code",
   "execution_count": 256,
   "metadata": {
    "collapsed": false
   },
   "outputs": [
    {
     "data": {
      "text/html": [
       "56372.625"
      ],
      "text/latex": [
       "56372.625"
      ],
      "text/markdown": [
       "56372.625"
      ],
      "text/plain": [
       "[1] 56372.62"
      ]
     },
     "metadata": {},
     "output_type": "display_data"
    }
   ],
   "source": [
    "mean(kilometros)"
   ]
  },
  {
   "cell_type": "code",
   "execution_count": 258,
   "metadata": {
    "collapsed": false
   },
   "outputs": [
    {
     "data": {
      "text/html": [
       "304.428571428571"
      ],
      "text/latex": [
       "304.428571428571"
      ],
      "text/markdown": [
       "304.428571428571"
      ],
      "text/plain": [
       "[1] 304.4286"
      ]
     },
     "metadata": {},
     "output_type": "display_data"
    }
   ],
   "source": [
    "mean(diff(kilometros))"
   ]
  },
  {
   "cell_type": "markdown",
   "metadata": {},
   "source": [
    "mean() proporciona la media de contador de kilometros del vehiculo\n",
    "\n",
    "mean(diff()) proporciona la media de los kilometros recorridos por el vehiculo por depósito"
   ]
  },
  {
   "cell_type": "markdown",
   "metadata": {},
   "source": [
    "### ¿Como representar estos datos graficamente de forma util? \n",
    "\n",
    "### ¿Que tipo de informacion permite obtener y sobre que datos?"
   ]
  },
  {
   "cell_type": "markdown",
   "metadata": {},
   "source": [
    "Lo mejor es hacer un boxplot en el que obtenemos la mediana, que es el valor para el cual se obtiene el 50% de los\n",
    "datos de la muestra; y los quartiles Q1 y Q3 que corresponden con el 25% y el 75% de los datos. Observamos de forma grafica si hay valores que no encajan con lo estadisticamente esperable, los llamados outliers, que en este caso no existen."
   ]
  },
  {
   "cell_type": "code",
   "execution_count": 271,
   "metadata": {
    "collapsed": false
   },
   "outputs": [
    {
     "data": {
      "image/png": "[encoded data removed]",
      "text/plain": [
       "Plot with title “Kiometros recorridos por deposito”"
      ]
     },
     "metadata": {},
     "output_type": "display_data"
    }
   ],
   "source": [
    "boxplot(diff(kilometros),boxwex=0.5,main = \"Kiometros recorridos por deposito\")"
   ]
  },
  {
   "cell_type": "code",
   "execution_count": 273,
   "metadata": {
    "collapsed": false
   },
   "outputs": [
    {
     "data": {
      "text/plain": [
       "   Min. 1st Qu.  Median    Mean 3rd Qu.    Max. \n",
       "  281.0   290.5   303.0   304.4   319.5   327.0 "
      ]
     },
     "metadata": {},
     "output_type": "display_data"
    }
   ],
   "source": [
    "summary(diff(kilometros))"
   ]
  },
  {
   "cell_type": "code",
   "execution_count": 276,
   "metadata": {
    "collapsed": false
   },
   "outputs": [
    {
     "data": {
      "text/html": [
       "18.2012558436421"
      ],
      "text/latex": [
       "18.2012558436421"
      ],
      "text/markdown": [
       "18.2012558436421"
      ],
      "text/plain": [
       "[1] 18.20126"
      ]
     },
     "metadata": {},
     "output_type": "display_data"
    }
   ],
   "source": [
    "sd(diff(kilometros))"
   ]
  },
  {
   "cell_type": "markdown",
   "metadata": {},
   "source": [
    "# Ejercicio 1.3:"
   ]
  },
  {
   "cell_type": "markdown",
   "metadata": {},
   "source": [
    "### La estacion meteorologica situada en Peñaranda de Bracamonte ha recogido las precipitaciones \n",
    "### mensuales de los años hidrologicos 2005-2006 y 2006-2007 entre los meses de Octubre y Septiembre:\n",
    "__2005-2006__ = 124,60,34,29,31,40,30,18,21,10,24,26\n",
    "\n",
    "__2006-2007__ = 69,44,31,15,58,16,99,86,51,0,39,52"
   ]
  },
  {
   "cell_type": "code",
   "execution_count": 348,
   "metadata": {
    "collapsed": true
   },
   "outputs": [],
   "source": [
    "precipitaciones05 <- c(124,60,34,29,31,40,30,18,21,10,24,26)\n",
    "precipitaciones06 <- c(69,44,31,15,58,16,99,86,51,0,39,52)"
   ]
  },
  {
   "cell_type": "code",
   "execution_count": 349,
   "metadata": {
    "collapsed": false
   },
   "outputs": [],
   "source": [
    "names(precipitaciones05) <- c(\"Oct\",\"Nov\",\"Dic\",\"En\",\"Feb\",\"Mar\",\"Ab\",\"May\",\"Jun\",\"Jul\",\"Ago\",\"Sep\")\n",
    "names(precipitaciones06) <- c(\"Oct\",\"Nov\",\"Dic\",\"En\",\"Feb\",\"Mar\",\"Ab\",\"May\",\"Jun\",\"Jul\",\"Ago\",\"Sep\")"
   ]
  },
  {
   "cell_type": "markdown",
   "metadata": {},
   "source": [
    "### Obtener las precipitaciones totales para cada año hidrologico, las precipitaciones acumuladas,\n",
    "### el mes de mayores y de menores precipitaciones para cada año."
   ]
  },
  {
   "cell_type": "code",
   "execution_count": 350,
   "metadata": {
    "collapsed": false
   },
   "outputs": [
    {
     "data": {
      "text/html": [
       "447"
      ],
      "text/latex": [
       "447"
      ],
      "text/markdown": [
       "447"
      ],
      "text/plain": [
       "[1] 447"
      ]
     },
     "metadata": {},
     "output_type": "display_data"
    }
   ],
   "source": [
    "sum(precipitaciones05)"
   ]
  },
  {
   "cell_type": "code",
   "execution_count": 351,
   "metadata": {
    "collapsed": false
   },
   "outputs": [
    {
     "data": {
      "text/html": [
       "560"
      ],
      "text/latex": [
       "560"
      ],
      "text/markdown": [
       "560"
      ],
      "text/plain": [
       "[1] 560"
      ]
     },
     "metadata": {},
     "output_type": "display_data"
    }
   ],
   "source": [
    "sum(precipitaciones06)"
   ]
  },
  {
   "cell_type": "code",
   "execution_count": 352,
   "metadata": {
    "collapsed": false
   },
   "outputs": [
    {
     "data": {
      "text/html": [
       "<dl class=dl-horizontal>\n",
       "\t<dt>Oct</dt>\n",
       "\t\t<dd>124</dd>\n",
       "\t<dt>Nov</dt>\n",
       "\t\t<dd>184</dd>\n",
       "\t<dt>Dic</dt>\n",
       "\t\t<dd>218</dd>\n",
       "\t<dt>En</dt>\n",
       "\t\t<dd>247</dd>\n",
       "\t<dt>Feb</dt>\n",
       "\t\t<dd>278</dd>\n",
       "\t<dt>Mar</dt>\n",
       "\t\t<dd>318</dd>\n",
       "\t<dt>Ab</dt>\n",
       "\t\t<dd>348</dd>\n",
       "\t<dt>May</dt>\n",
       "\t\t<dd>366</dd>\n",
       "\t<dt>Jun</dt>\n",
       "\t\t<dd>387</dd>\n",
       "\t<dt>Jul</dt>\n",
       "\t\t<dd>397</dd>\n",
       "\t<dt>Ago</dt>\n",
       "\t\t<dd>421</dd>\n",
       "\t<dt>Sep</dt>\n",
       "\t\t<dd>447</dd>\n",
       "</dl>\n"
      ],
      "text/latex": [
       "\\begin{description*}\n",
       "\\item[Oct] 124\n",
       "\\item[Nov] 184\n",
       "\\item[Dic] 218\n",
       "\\item[En] 247\n",
       "\\item[Feb] 278\n",
       "\\item[Mar] 318\n",
       "\\item[Ab] 348\n",
       "\\item[May] 366\n",
       "\\item[Jun] 387\n",
       "\\item[Jul] 397\n",
       "\\item[Ago] 421\n",
       "\\item[Sep] 447\n",
       "\\end{description*}\n"
      ],
      "text/markdown": [
       "Oct\n",
       ":   124Nov\n",
       ":   184Dic\n",
       ":   218En\n",
       ":   247Feb\n",
       ":   278Mar\n",
       ":   318Ab\n",
       ":   348May\n",
       ":   366Jun\n",
       ":   387Jul\n",
       ":   397Ago\n",
       ":   421Sep\n",
       ":   447\n",
       "\n"
      ],
      "text/plain": [
       "Oct Nov Dic  En Feb Mar  Ab May Jun Jul Ago Sep \n",
       "124 184 218 247 278 318 348 366 387 397 421 447 "
      ]
     },
     "metadata": {},
     "output_type": "display_data"
    }
   ],
   "source": [
    "cumsum(precipitaciones05)"
   ]
  },
  {
   "cell_type": "code",
   "execution_count": 353,
   "metadata": {
    "collapsed": false
   },
   "outputs": [
    {
     "data": {
      "text/html": [
       "<dl class=dl-horizontal>\n",
       "\t<dt>Oct</dt>\n",
       "\t\t<dd>69</dd>\n",
       "\t<dt>Nov</dt>\n",
       "\t\t<dd>113</dd>\n",
       "\t<dt>Dic</dt>\n",
       "\t\t<dd>144</dd>\n",
       "\t<dt>En</dt>\n",
       "\t\t<dd>159</dd>\n",
       "\t<dt>Feb</dt>\n",
       "\t\t<dd>217</dd>\n",
       "\t<dt>Mar</dt>\n",
       "\t\t<dd>233</dd>\n",
       "\t<dt>Ab</dt>\n",
       "\t\t<dd>332</dd>\n",
       "\t<dt>May</dt>\n",
       "\t\t<dd>418</dd>\n",
       "\t<dt>Jun</dt>\n",
       "\t\t<dd>469</dd>\n",
       "\t<dt>Jul</dt>\n",
       "\t\t<dd>469</dd>\n",
       "\t<dt>Ago</dt>\n",
       "\t\t<dd>508</dd>\n",
       "\t<dt>Sep</dt>\n",
       "\t\t<dd>560</dd>\n",
       "</dl>\n"
      ],
      "text/latex": [
       "\\begin{description*}\n",
       "\\item[Oct] 69\n",
       "\\item[Nov] 113\n",
       "\\item[Dic] 144\n",
       "\\item[En] 159\n",
       "\\item[Feb] 217\n",
       "\\item[Mar] 233\n",
       "\\item[Ab] 332\n",
       "\\item[May] 418\n",
       "\\item[Jun] 469\n",
       "\\item[Jul] 469\n",
       "\\item[Ago] 508\n",
       "\\item[Sep] 560\n",
       "\\end{description*}\n"
      ],
      "text/markdown": [
       "Oct\n",
       ":   69Nov\n",
       ":   113Dic\n",
       ":   144En\n",
       ":   159Feb\n",
       ":   217Mar\n",
       ":   233Ab\n",
       ":   332May\n",
       ":   418Jun\n",
       ":   469Jul\n",
       ":   469Ago\n",
       ":   508Sep\n",
       ":   560\n",
       "\n"
      ],
      "text/plain": [
       "Oct Nov Dic  En Feb Mar  Ab May Jun Jul Ago Sep \n",
       " 69 113 144 159 217 233 332 418 469 469 508 560 "
      ]
     },
     "metadata": {},
     "output_type": "display_data"
    }
   ],
   "source": [
    "cumsum(precipitaciones06)"
   ]
  },
  {
   "cell_type": "code",
   "execution_count": 354,
   "metadata": {
    "collapsed": false
   },
   "outputs": [
    {
     "data": {
      "text/html": [
       "<strong>Oct:</strong> 1"
      ],
      "text/latex": [
       "\\textbf{Oct:} 1"
      ],
      "text/markdown": [
       "**Oct:** 1"
      ],
      "text/plain": [
       "Oct \n",
       "  1 "
      ]
     },
     "metadata": {},
     "output_type": "display_data"
    }
   ],
   "source": [
    "which.max(precipitaciones05)"
   ]
  },
  {
   "cell_type": "code",
   "execution_count": 355,
   "metadata": {
    "collapsed": false
   },
   "outputs": [
    {
     "data": {
      "text/html": [
       "<strong>Ab:</strong> 7"
      ],
      "text/latex": [
       "\\textbf{Ab:} 7"
      ],
      "text/markdown": [
       "**Ab:** 7"
      ],
      "text/plain": [
       "Ab \n",
       " 7 "
      ]
     },
     "metadata": {},
     "output_type": "display_data"
    }
   ],
   "source": [
    "which.max(precipitaciones06)"
   ]
  },
  {
   "cell_type": "code",
   "execution_count": 356,
   "metadata": {
    "collapsed": false
   },
   "outputs": [
    {
     "data": {
      "text/html": [
       "<strong>Jul:</strong> 10"
      ],
      "text/latex": [
       "\\textbf{Jul:} 10"
      ],
      "text/markdown": [
       "**Jul:** 10"
      ],
      "text/plain": [
       "Jul \n",
       " 10 "
      ]
     },
     "metadata": {},
     "output_type": "display_data"
    }
   ],
   "source": [
    "which.min(precipitaciones05)"
   ]
  },
  {
   "cell_type": "code",
   "execution_count": 357,
   "metadata": {
    "collapsed": false
   },
   "outputs": [
    {
     "data": {
      "text/html": [
       "<strong>Jul:</strong> 10"
      ],
      "text/latex": [
       "\\textbf{Jul:} 10"
      ],
      "text/markdown": [
       "**Jul:** 10"
      ],
      "text/plain": [
       "Jul \n",
       " 10 "
      ]
     },
     "metadata": {},
     "output_type": "display_data"
    }
   ],
   "source": [
    "which.min(precipitaciones06)"
   ]
  },
  {
   "cell_type": "markdown",
   "metadata": {},
   "source": [
    "### Encontrar la precipitacion mensual media para cada año y  la precipitacion media para el periodo 2005 − 2007."
   ]
  },
  {
   "cell_type": "code",
   "execution_count": 358,
   "metadata": {
    "collapsed": false
   },
   "outputs": [
    {
     "data": {
      "text/html": [
       "37.25"
      ],
      "text/latex": [
       "37.25"
      ],
      "text/markdown": [
       "37.25"
      ],
      "text/plain": [
       "[1] 37.25"
      ]
     },
     "metadata": {},
     "output_type": "display_data"
    }
   ],
   "source": [
    "mean(precipitaciones05)"
   ]
  },
  {
   "cell_type": "code",
   "execution_count": 359,
   "metadata": {
    "collapsed": false
   },
   "outputs": [
    {
     "data": {
      "text/html": [
       "46.6666666666667"
      ],
      "text/latex": [
       "46.6666666666667"
      ],
      "text/markdown": [
       "46.6666666666667"
      ],
      "text/plain": [
       "[1] 46.66667"
      ]
     },
     "metadata": {},
     "output_type": "display_data"
    }
   ],
   "source": [
    "mean(precipitaciones06)"
   ]
  },
  {
   "cell_type": "code",
   "execution_count": 360,
   "metadata": {
    "collapsed": false
   },
   "outputs": [
    {
     "data": {
      "text/html": [
       "41.9583333333333"
      ],
      "text/latex": [
       "41.9583333333333"
      ],
      "text/markdown": [
       "41.9583333333333"
      ],
      "text/plain": [
       "[1] 41.95833"
      ]
     },
     "metadata": {},
     "output_type": "display_data"
    }
   ],
   "source": [
    "mean(c(precipitaciones05,precipitaciones06))"
   ]
  },
  {
   "cell_type": "markdown",
   "metadata": {},
   "source": [
    "### Representar graficamente mediante diagramas de puntos, las precipitaciones mensuales para \n",
    "### cada año y la precipitaciones para ambos años."
   ]
  },
  {
   "cell_type": "code",
   "execution_count": 362,
   "metadata": {
    "collapsed": false
   },
   "outputs": [
    {
     "data": {
      "image/png": "[encoded data removed]",
      "text/plain": [
       "plot without title"
      ]
     },
     "metadata": {},
     "output_type": "display_data"
    }
   ],
   "source": [
    "plot(precipitaciones05)"
   ]
  },
  {
   "cell_type": "code",
   "execution_count": 363,
   "metadata": {
    "collapsed": false
   },
   "outputs": [
    {
     "data": {
      "image/png": "[encoded data removed]",
      "text/plain": [
       "plot without title"
      ]
     },
     "metadata": {},
     "output_type": "display_data"
    }
   ],
   "source": [
    "plot(precipitaciones06)"
   ]
  },
  {
   "cell_type": "code",
   "execution_count": 365,
   "metadata": {
    "collapsed": false
   },
   "outputs": [
    {
     "data": {
      "image/png": "[encoded data removed]",
      "text/plain": [
       "plot without title"
      ]
     },
     "metadata": {},
     "output_type": "display_data"
    }
   ],
   "source": [
    "plot(c(precipitaciones05,precipitaciones06))"
   ]
  },
  {
   "cell_type": "markdown",
   "metadata": {},
   "source": [
    "### Representar mediante un diagrama de puntos, mes a mes, la diferencia entre ambos años hidrologicos."
   ]
  },
  {
   "cell_type": "code",
   "execution_count": 367,
   "metadata": {
    "collapsed": false
   },
   "outputs": [
    {
     "data": {
      "image/png": "[encoded data removed]",
      "text/plain": [
       "plot without title"
      ]
     },
     "metadata": {},
     "output_type": "display_data"
    }
   ],
   "source": [
    "diferencias =  precipitaciones05 - precipitaciones06\n",
    "plot(diferencias)"
   ]
  },
  {
   "cell_type": "markdown",
   "metadata": {},
   "source": [
    "# Ejercicio 1.4: \n",
    "### Análisis de la demanda electrica "
   ]
  },
  {
   "cell_type": "code",
   "execution_count": 237,
   "metadata": {
    "collapsed": false
   },
   "outputs": [],
   "source": [
    "rm(list=ls())\n",
    "data <- read.csv(file=\"data/load.csv\")"
   ]
  },
  {
   "cell_type": "code",
   "execution_count": 239,
   "metadata": {
    "collapsed": false
   },
   "outputs": [
    {
     "data": {
      "image/png": "[encoded data removed]",
      "text/plain": [
       "plot without title"
      ]
     },
     "metadata": {},
     "output_type": "display_data"
    }
   ],
   "source": [
    "plot(data[['load']])"
   ]
  },
  {
   "cell_type": "code",
   "execution_count": 240,
   "metadata": {
    "collapsed": false
   },
   "outputs": [
    {
     "data": {
      "text/html": [
       "720"
      ],
      "text/latex": [
       "720"
      ],
      "text/markdown": [
       "720"
      ],
      "text/plain": [
       "[1] 720"
      ]
     },
     "metadata": {},
     "output_type": "display_data"
    }
   ],
   "source": [
    "length(data[['load']])"
   ]
  },
  {
   "cell_type": "code",
   "execution_count": 229,
   "metadata": {
    "collapsed": false
   },
   "outputs": [
    {
     "data": {
      "text/plain": [
       "   Min. 1st Qu.  Median    Mean 3rd Qu.    Max. \n",
       "  19680   24880   29550   29100   33120   38330 "
      ]
     },
     "metadata": {},
     "output_type": "display_data"
    }
   ],
   "source": [
    "summary(data[[\"load\"]])"
   ]
  },
  {
   "cell_type": "code",
   "execution_count": 222,
   "metadata": {
    "collapsed": false
   },
   "outputs": [
    {
     "data": {
      "text/html": [
       "<strong>75%:</strong> 33116.25"
      ],
      "text/latex": [
       "\\textbf{75\\textbackslash{}\\%:} 33116.25"
      ],
      "text/markdown": [
       "**75%:** 33116.25"
      ],
      "text/plain": [
       "     75% \n",
       "33116.25 "
      ]
     },
     "metadata": {},
     "output_type": "display_data"
    }
   ],
   "source": [
    "quantile(data[[\"load\"]],.75) "
   ]
  },
  {
   "cell_type": "code",
   "execution_count": 223,
   "metadata": {
    "collapsed": false
   },
   "outputs": [
    {
     "data": {
      "text/html": [
       "38330"
      ],
      "text/latex": [
       "38330"
      ],
      "text/markdown": [
       "38330"
      ],
      "text/plain": [
       "[1] 38330"
      ]
     },
     "metadata": {},
     "output_type": "display_data"
    }
   ],
   "source": [
    "max(data[[\"load\"]])"
   ]
  },
  {
   "cell_type": "code",
   "execution_count": 225,
   "metadata": {
    "collapsed": false
   },
   "outputs": [
    {
     "data": {
      "text/html": [
       "19680"
      ],
      "text/latex": [
       "19680"
      ],
      "text/markdown": [
       "19680"
      ],
      "text/plain": [
       "[1] 19680"
      ]
     },
     "metadata": {},
     "output_type": "display_data"
    }
   ],
   "source": [
    "min(data[[\"load\"]])"
   ]
  }
 ],
 "metadata": {
  "kernelspec": {
   "display_name": "R",
   "language": "R",
   "name": "ir"
  },
  "language_info": {
   "codemirror_mode": "r",
   "file_extension": ".r",
   "mimetype": "text/x-r-source",
   "name": "R",
   "pygments_lexer": "r",
   "version": "3.3.0"
  },
  "varInspector": {
   "cols": {
    "lenName": 16,
    "lenType": 16,
    "lenVar": 40
   },
   "kernels_config": {
    "python": {
     "delete_cmd_postfix": "",
     "delete_cmd_prefix": "del ",
     "library": "var_list.py",
     "varRefreshCmd": "print(var_dic_list())"
    },
    "r": {
     "delete_cmd_postfix": ") ",
     "delete_cmd_prefix": "rm(",
     "library": "var_list.r",
     "varRefreshCmd": "cat(var_dic_list()) "
    }
   },
   "types_to_exclude": [
    "module",
    "function",
    "builtin_function_or_method",
    "instance",
    "_Feature"
   ],
   "window_display": false
  }
 },
 "nbformat": 4,
 "nbformat_minor": 2
}
